{
  "cells": [
    {
      "cell_type": "code",
      "source": [
        "from __future__ import absolute_import, division, print_function\n",
        "\n",
        "import tensorflow as tf\n",
        "\n",
        "tf.enable_eager_execution()\n"
      ],
      "outputs": [],
      "execution_count": 1,
      "metadata": {
        "collapsed": false,
        "outputHidden": false,
        "inputHidden": false
      }
    },
    {
      "cell_type": "code",
      "source": [
        "tf.executing_eagerly() "
      ],
      "outputs": [
        {
          "output_type": "execute_result",
          "execution_count": 2,
          "data": {
            "text/plain": [
              "True"
            ]
          },
          "metadata": {}
        }
      ],
      "execution_count": 2,
      "metadata": {
        "collapsed": false,
        "outputHidden": false,
        "inputHidden": false
      }
    },
    {
      "cell_type": "code",
      "source": [
        "a = tf.constant([\n",
        "    [[3,4,5], [5,6,1],[3,9,7], [5,3,1]],\n",
        "    [[3,9,7], [5,3,1],[3,4,5], [5,6,1]],\n",
        "    [[4,5,2], [0,4,3],[9,2,6], [5,4,8]],\n",
        "    [[9,2,6], [5,4,8],[4,5,2], [0,4,3]]\n",
        "], dtype=tf.float32)\n",
        "a"
      ],
      "outputs": [
        {
          "output_type": "execute_result",
          "execution_count": 3,
          "data": {
            "text/plain": [
              "<tf.Tensor: id=1, shape=(4, 4, 3), dtype=float32, numpy=\n",
              "array([[[3., 4., 5.],\n",
              "        [5., 6., 1.],\n",
              "        [3., 9., 7.],\n",
              "        [5., 3., 1.]],\n",
              "\n",
              "       [[3., 9., 7.],\n",
              "        [5., 3., 1.],\n",
              "        [3., 4., 5.],\n",
              "        [5., 6., 1.]],\n",
              "\n",
              "       [[4., 5., 2.],\n",
              "        [0., 4., 3.],\n",
              "        [9., 2., 6.],\n",
              "        [5., 4., 8.]],\n",
              "\n",
              "       [[9., 2., 6.],\n",
              "        [5., 4., 8.],\n",
              "        [4., 5., 2.],\n",
              "        [0., 4., 3.]]], dtype=float32)>"
            ]
          },
          "metadata": {}
        }
      ],
      "execution_count": 3,
      "metadata": {
        "collapsed": false,
        "outputHidden": false,
        "inputHidden": false
      }
    },
    {
      "cell_type": "code",
      "source": [
        "1 - a"
      ],
      "outputs": [
        {
          "output_type": "execute_result",
          "execution_count": 5,
          "data": {
            "text/plain": [
              "<tf.Tensor: id=6, shape=(4, 4, 3), dtype=float32, numpy=\n",
              "array([[[-2., -3., -4.],\n",
              "        [-4., -5.,  0.],\n",
              "        [-2., -8., -6.],\n",
              "        [-4., -2.,  0.]],\n",
              "\n",
              "       [[-2., -8., -6.],\n",
              "        [-4., -2.,  0.],\n",
              "        [-2., -3., -4.],\n",
              "        [-4., -5.,  0.]],\n",
              "\n",
              "       [[-3., -4., -1.],\n",
              "        [ 1., -3., -2.],\n",
              "        [-8., -1., -5.],\n",
              "        [-4., -3., -7.]],\n",
              "\n",
              "       [[-8., -1., -5.],\n",
              "        [-4., -3., -7.],\n",
              "        [-3., -4., -1.],\n",
              "        [ 1., -3., -2.]]], dtype=float32)>"
            ]
          },
          "metadata": {}
        }
      ],
      "execution_count": 5,
      "metadata": {
        "collapsed": false,
        "outputHidden": false,
        "inputHidden": false
      }
    },
    {
      "cell_type": "code",
      "source": [
        "tf.slice(a, [0,1,0],[-1,-1,-1])"
      ],
      "outputs": [
        {
          "output_type": "execute_result",
          "execution_count": 11,
          "data": {
            "text/plain": [
              "<tf.Tensor: id=27, shape=(4, 1, 3), dtype=float32, numpy=\n",
              "array([[[5., 6., 1.]],\n",
              "\n",
              "       [[5., 3., 1.]],\n",
              "\n",
              "       [[0., 4., 3.]],\n",
              "\n       [[5., 4., 8.]]], dtype=float32)>"
            ]
          },
          "metadata": {}
        }
      ],
      "execution_count": 11,
      "metadata": {
        "collapsed": false,
        "outputHidden": false,
        "inputHidden": false
      }
    },
    {
      "cell_type": "code",
      "source": [
        "a[[]]"
      ],
      "outputs": [
        {
          "output_type": "execute_result",
          "execution_count": 6,
          "data": {
            "text/plain": [
              "<tf.Tensor: id=1, shape=(4, 4, 3), dtype=float32, numpy=\n",
              "array([[[3., 4., 5.],\n",
              "        [5., 6., 1.],\n",
              "        [3., 9., 7.],\n",
              "        [5., 3., 1.]],\n",
              "\n",
              "       [[3., 9., 7.],\n",
              "        [5., 3., 1.],\n",
              "        [3., 4., 5.],\n",
              "        [5., 6., 1.]],\n",
              "\n",
              "       [[4., 5., 2.],\n",
              "        [0., 4., 3.],\n",
              "        [9., 2., 6.],\n",
              "        [5., 4., 8.]],\n",
              "\n",
              "       [[9., 2., 6.],\n",
              "        [5., 4., 8.],\n",
              "        [4., 5., 2.],\n",
              "        [0., 4., 3.]]], dtype=float32)>"
            ]
          },
          "metadata": {}
        }
      ],
      "execution_count": 6,
      "metadata": {
        "collapsed": false,
        "outputHidden": false,
        "inputHidden": false
      }
    },
    {
      "cell_type": "code",
      "source": [
        "x"
      ],
      "outputs": [],
      "execution_count": null,
      "metadata": {
        "collapsed": false,
        "outputHidden": false,
        "inputHidden": false
      }
    }
  ],
  "metadata": {
    "kernel_info": {
      "name": "python3"
    },
    "language_info": {
      "name": "python",
      "version": "3.6.2",
      "mimetype": "text/x-python",
      "codemirror_mode": {
        "name": "ipython",
        "version": 3
      },
      "pygments_lexer": "ipython3",
      "nbconvert_exporter": "python",
      "file_extension": ".py"
    },
    "kernelspec": {
      "name": "python3",
      "language": "python",
      "display_name": "Python 3"
    },
    "nteract": {
      "version": "0.12.2"
    }
  },
  "nbformat": 4,
  "nbformat_minor": 4
}